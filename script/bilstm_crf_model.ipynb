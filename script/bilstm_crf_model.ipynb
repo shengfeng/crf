{
 "cells": [
  {
   "cell_type": "code",
   "execution_count": 1,
   "metadata": {},
   "outputs": [],
   "source": [
    "import numpy as np\n",
    "from collections import Counter\n",
    "from keras_preprocessing.sequence import pad_sequences\n",
    "import pickle\n",
    "import platform"
   ]
  },
  {
   "cell_type": "code",
   "execution_count": 2,
   "metadata": {},
   "outputs": [],
   "source": [
    "def _parse_data(fh):\n",
    "    #  in windows the new line is '\\r\\n\\r\\n' the space is '\\r\\n' . so if you use windows system,\n",
    "    #  you have to use recorsponding instructions    \n",
    "    \n",
    "    if platform.system() == 'Windows':\n",
    "        split_text = '\\n'\n",
    "    else:\n",
    "        split_text = '\\n'\n",
    "    \n",
    "    string = fh.read().decode('utf-8')\n",
    "    data = [[row.split() for row in sample.split(split_text)] for\n",
    "            sample in\n",
    "            string.strip().split(split_text + split_text)]\n",
    "    fh.close()\n",
    "    return data"
   ]
  },
  {
   "cell_type": "code",
   "execution_count": 3,
   "metadata": {},
   "outputs": [],
   "source": [
    "def _process_data(data, vocab, chunk_tags, maxlen=None, onehot=False):\n",
    "    if maxlen is None:\n",
    "        maxlen = max(len(s) for s in data)\n",
    "    word2idx = dict((w, i) for i, w in enumerate(vocab))\n",
    "    x = [[word2idx.get(w[0].lower(), 1) for w in s] for s in data]\n",
    "    y_chunk = [[chunk_tags.index(w[1]) for w in s] for s in data]\n",
    "    \n",
    "    x = pad_sequences(x, maxlen)\n",
    "    y_chunk = pad_sequences(y_chunk, maxlen, value=-1)\n",
    "    \n",
    "    if onehot:\n",
    "        y_chunk = np.eye(len(chunk_tags), dtype='float32')[y_chunk]\n",
    "    else:\n",
    "        y_chunk = np.expand_dims(y_chunk, 2)\n",
    "    return x, y_chunk"
   ]
  },
  {
   "cell_type": "code",
   "execution_count": 4,
   "metadata": {},
   "outputs": [],
   "source": [
    "def process_data(data, vocab, maxlen=100):\n",
    "    word2idx = dict((w, i) for i, w in enumerate(vocab))\n",
    "    x = [word2idx.get(w[0].lower(), 100) for w in data]\n",
    "    length = len(x)\n",
    "    x = pad_sequences([x], maxlen)\n",
    "    return x, length"
   ]
  },
  {
   "cell_type": "code",
   "execution_count": 5,
   "metadata": {},
   "outputs": [],
   "source": [
    "def load_data():\n",
    "    train = _parse_data(open('data/train_data.data', 'rb'))\n",
    "    test = _parse_data(open('data/test_data.data', 'rb'))\n",
    "    \n",
    "    word_counts = Counter(row[0].lower() for sample in train for row in sample)\n",
    "    vocab = [w for w, f in iter(word_counts.items()) if f >= 2]\n",
    "    chunk_tags = ['O', 'B-PER', 'I-PER', 'B-LOC', 'I-LOC', \"B-ORG\", \"I-ORG\"]\n",
    "    \n",
    "    with open('models/config.pkl', 'wb') as outp:\n",
    "        pickle.dump((vocab, chunk_tags), outp)\n",
    "    \n",
    "    # save initial config data\n",
    "    train = _process_data(train, vocab, chunk_tags)\n",
    "    test = _process_data(test, vocab, chunk_tags)\n",
    "    return train, test, (vocab, chunk_tags)"
   ]
  },
  {
   "cell_type": "code",
   "execution_count": 6,
   "metadata": {},
   "outputs": [],
   "source": [
    "train, test, (vocab, chunk_tags) = load_data()"
   ]
  },
  {
   "cell_type": "code",
   "execution_count": 7,
   "metadata": {},
   "outputs": [
    {
     "name": "stderr",
     "output_type": "stream",
     "text": [
      "Using TensorFlow backend.\n"
     ]
    }
   ],
   "source": [
    "from keras.models import Sequential\n",
    "from keras.layers import Embedding, Bidirectional, LSTM\n",
    "from keras_contrib.layers import CRF\n",
    "import pickle"
   ]
  },
  {
   "cell_type": "code",
   "execution_count": 8,
   "metadata": {},
   "outputs": [],
   "source": [
    "EMBED_DIM = 200\n",
    "BIRNN_UNITS = 200"
   ]
  },
  {
   "cell_type": "code",
   "execution_count": 9,
   "metadata": {},
   "outputs": [],
   "source": [
    "def create_model(train=True):\n",
    "    if train:\n",
    "        (train_x, train_y), (test_x, test_y), (vocab, chunk_tags) = load_data()\n",
    "    else:\n",
    "        with open('models/config.pkl', 'rb') as inp:\n",
    "            (vocab, chunk_tags) = pickle.load(inp)\n",
    "    \n",
    "    model = Sequential()\n",
    "    model.add(Embedding(len(vocab), EMBED_DIM, mask_zero=True))\n",
    "    model.add(Bidirectional(LSTM(BIRNN_UNITS // 2, return_sequences=True)))\n",
    "    crf = CRF(len(chunk_tags), sparse_target=True)\n",
    "    model.add(crf)\n",
    "    model.summary()\n",
    "    model.compile('adam', loss=crf.loss_function, metrics=[crf.accuracy])\n",
    "    if train:\n",
    "        return model, (train_x, train_y), (test_x, test_y)\n",
    "    else:\n",
    "        return model, (vocab, chunk_tags)"
   ]
  },
  {
   "cell_type": "code",
   "execution_count": 10,
   "metadata": {},
   "outputs": [],
   "source": [
    "EPOCH = 10"
   ]
  },
  {
   "cell_type": "code",
   "execution_count": 11,
   "metadata": {},
   "outputs": [
    {
     "name": "stderr",
     "output_type": "stream",
     "text": [
      "WARNING: Logging before flag parsing goes to stderr.\n",
      "W0723 12:32:18.580166  6724 deprecation_wrapper.py:119] From D:\\Anaconda3\\envs\\tensorflow\\lib\\site-packages\\keras\\backend\\tensorflow_backend.py:74: The name tf.get_default_graph is deprecated. Please use tf.compat.v1.get_default_graph instead.\n",
      "\n",
      "W0723 12:32:18.592107  6724 deprecation_wrapper.py:119] From D:\\Anaconda3\\envs\\tensorflow\\lib\\site-packages\\keras\\backend\\tensorflow_backend.py:517: The name tf.placeholder is deprecated. Please use tf.compat.v1.placeholder instead.\n",
      "\n",
      "W0723 12:32:18.594101  6724 deprecation_wrapper.py:119] From D:\\Anaconda3\\envs\\tensorflow\\lib\\site-packages\\keras\\backend\\tensorflow_backend.py:4138: The name tf.random_uniform is deprecated. Please use tf.random.uniform instead.\n",
      "\n",
      "W0723 12:32:18.808525  6724 deprecation.py:323] From D:\\Anaconda3\\envs\\tensorflow\\lib\\site-packages\\keras\\backend\\tensorflow_backend.py:2974: add_dispatch_support.<locals>.wrapper (from tensorflow.python.ops.array_ops) is deprecated and will be removed in a future version.\n",
      "Instructions for updating:\n",
      "Use tf.where in 2.0, which has the same broadcast rule as np.where\n",
      "W0723 12:32:19.099744  6724 deprecation_wrapper.py:119] From D:\\Anaconda3\\envs\\tensorflow\\lib\\site-packages\\keras\\backend\\tensorflow_backend.py:133: The name tf.placeholder_with_default is deprecated. Please use tf.compat.v1.placeholder_with_default instead.\n",
      "\n",
      "D:\\Anaconda3\\envs\\tensorflow\\lib\\site-packages\\keras_contrib\\layers\\crf.py:346: UserWarning: CRF.loss_function is deprecated and it might be removed in the future. Please use losses.crf_loss instead.\n",
      "  warnings.warn('CRF.loss_function is deprecated '\n",
      "D:\\Anaconda3\\envs\\tensorflow\\lib\\site-packages\\keras_contrib\\layers\\crf.py:353: UserWarning: CRF.accuracy is deprecated and it might be removed in the future. Please use metrics.crf_accuracy\n",
      "  warnings.warn('CRF.accuracy is deprecated and it '\n",
      "W0723 12:32:19.107722  6724 deprecation_wrapper.py:119] From D:\\Anaconda3\\envs\\tensorflow\\lib\\site-packages\\keras\\optimizers.py:790: The name tf.train.Optimizer is deprecated. Please use tf.compat.v1.train.Optimizer instead.\n",
      "\n"
     ]
    },
    {
     "name": "stdout",
     "output_type": "stream",
     "text": [
      "_________________________________________________________________\n",
      "Layer (type)                 Output Shape              Param #   \n",
      "=================================================================\n",
      "embedding_1 (Embedding)      (None, None, 200)         851600    \n",
      "_________________________________________________________________\n",
      "bidirectional_1 (Bidirection (None, None, 200)         240800    \n",
      "_________________________________________________________________\n",
      "crf_1 (CRF)                  (None, None, 7)           1470      \n",
      "=================================================================\n",
      "Total params: 1,093,870\n",
      "Trainable params: 1,093,870\n",
      "Non-trainable params: 0\n",
      "_________________________________________________________________\n"
     ]
    }
   ],
   "source": [
    "model, (train_x, train_y), (test_x, test_y) = create_model()"
   ]
  },
  {
   "cell_type": "code",
   "execution_count": 12,
   "metadata": {},
   "outputs": [
    {
     "name": "stderr",
     "output_type": "stream",
     "text": [
      "W0723 12:32:20.682747  6724 deprecation_wrapper.py:119] From D:\\Anaconda3\\envs\\tensorflow\\lib\\site-packages\\keras\\backend\\tensorflow_backend.py:986: The name tf.assign_add is deprecated. Please use tf.compat.v1.assign_add instead.\n",
      "\n"
     ]
    },
    {
     "name": "stdout",
     "output_type": "stream",
     "text": [
      "Train on 50658 samples, validate on 4631 samples\n",
      "Epoch 1/10\n",
      "50658/50658 [==============================] - 189s 4ms/step - loss: 4.1182 - crf_viterbi_accuracy: 0.9380 - val_loss: 7.9163 - val_crf_viterbi_accuracy: 0.9645\n",
      "Epoch 2/10\n",
      "50658/50658 [==============================] - 193s 4ms/step - loss: 3.9905 - crf_viterbi_accuracy: 0.9733 - val_loss: 7.8889 - val_crf_viterbi_accuracy: 0.9677\n",
      "Epoch 3/10\n",
      "50658/50658 [==============================] - 195s 4ms/step - loss: 3.9694 - crf_viterbi_accuracy: 0.9804 - val_loss: 7.8738 - val_crf_viterbi_accuracy: 0.9716\n",
      "Epoch 4/10\n",
      "50658/50658 [==============================] - 196s 4ms/step - loss: 3.9596 - crf_viterbi_accuracy: 0.9844 - val_loss: 7.8691 - val_crf_viterbi_accuracy: 0.9731\n",
      "Epoch 5/10\n",
      "50658/50658 [==============================] - 198s 4ms/step - loss: 3.9538 - crf_viterbi_accuracy: 0.9874 - val_loss: 7.8638 - val_crf_viterbi_accuracy: 0.9782\n",
      "Epoch 6/10\n",
      "50658/50658 [==============================] - 200s 4ms/step - loss: 3.9496 - crf_viterbi_accuracy: 0.9901 - val_loss: 7.8664 - val_crf_viterbi_accuracy: 0.9751\n",
      "Epoch 7/10\n",
      "50658/50658 [==============================] - 199s 4ms/step - loss: 3.9467 - crf_viterbi_accuracy: 0.9921 - val_loss: 7.8667 - val_crf_viterbi_accuracy: 0.9774\n",
      "Epoch 8/10\n",
      "50658/50658 [==============================] - 200s 4ms/step - loss: 3.9443 - crf_viterbi_accuracy: 0.9940 - val_loss: 7.8671 - val_crf_viterbi_accuracy: 0.9779\n",
      "Epoch 9/10\n",
      "50658/50658 [==============================] - 201s 4ms/step - loss: 3.9426 - crf_viterbi_accuracy: 0.9952 - val_loss: 7.8691 - val_crf_viterbi_accuracy: 0.9771\n",
      "Epoch 10/10\n",
      "50658/50658 [==============================] - 201s 4ms/step - loss: 3.9412 - crf_viterbi_accuracy: 0.9964 - val_loss: 7.8720 - val_crf_viterbi_accuracy: 0.9783\n"
     ]
    },
    {
     "data": {
      "text/plain": [
       "<keras.callbacks.History at 0x277adab7a90>"
      ]
     },
     "execution_count": 12,
     "metadata": {},
     "output_type": "execute_result"
    }
   ],
   "source": [
    "model.fit(train_x, train_y, batch_size=32, epochs=EPOCH, validation_data=[test_x, test_y])"
   ]
  },
  {
   "cell_type": "code",
   "execution_count": 13,
   "metadata": {},
   "outputs": [],
   "source": [
    "model.save('models/crf.h5')"
   ]
  },
  {
   "cell_type": "code",
   "execution_count": 14,
   "metadata": {},
   "outputs": [
    {
     "name": "stdout",
     "output_type": "stream",
     "text": [
      "_________________________________________________________________\n",
      "Layer (type)                 Output Shape              Param #   \n",
      "=================================================================\n",
      "embedding_2 (Embedding)      (None, None, 200)         851600    \n",
      "_________________________________________________________________\n",
      "bidirectional_2 (Bidirection (None, None, 200)         240800    \n",
      "_________________________________________________________________\n",
      "crf_2 (CRF)                  (None, None, 7)           1470      \n",
      "=================================================================\n",
      "Total params: 1,093,870\n",
      "Trainable params: 1,093,870\n",
      "Non-trainable params: 0\n",
      "_________________________________________________________________\n"
     ]
    },
    {
     "name": "stderr",
     "output_type": "stream",
     "text": [
      "D:\\Anaconda3\\envs\\tensorflow\\lib\\site-packages\\keras_contrib\\layers\\crf.py:346: UserWarning: CRF.loss_function is deprecated and it might be removed in the future. Please use losses.crf_loss instead.\n",
      "  warnings.warn('CRF.loss_function is deprecated '\n",
      "D:\\Anaconda3\\envs\\tensorflow\\lib\\site-packages\\keras_contrib\\layers\\crf.py:353: UserWarning: CRF.accuracy is deprecated and it might be removed in the future. Please use metrics.crf_accuracy\n",
      "  warnings.warn('CRF.accuracy is deprecated and it '\n"
     ]
    }
   ],
   "source": [
    "predict_model, (vocab, chunk_tags) = create_model(train=False)"
   ]
  },
  {
   "cell_type": "code",
   "execution_count": 16,
   "metadata": {},
   "outputs": [],
   "source": [
    "predict_model.load_weights('models/crf.h5')"
   ]
  },
  {
   "cell_type": "code",
   "execution_count": 23,
   "metadata": {},
   "outputs": [],
   "source": [
    "predict_text = '中华人民共和国国务院总理周恩来在外交部长陈毅的陪同下，连续访问了埃塞俄比亚等非洲10国以及阿尔巴尼亚'\n",
    "# predict_text = '我留言板球球群你们加下找我要回关'\n",
    "text, length = process_data(predict_text, vocab)\n",
    "raw = model.predict(text)[0][-length:]\n",
    "result = [np.argmax(row) for row in raw]\n",
    "result_tags = [chunk_tags[i] for i in result]"
   ]
  },
  {
   "cell_type": "code",
   "execution_count": 24,
   "metadata": {},
   "outputs": [],
   "source": [
    "per, loc, org = '', '', ''\n",
    "\n",
    "for s, t in zip(predict_text, result_tags):\n",
    "    if t in ('B-PER', 'I-PER'):\n",
    "        per += ' ' + s if (t == 'B-PER') else s\n",
    "    if t in ('B-ORG', 'I-ORG'):\n",
    "        org += ' ' + s if (t == 'B-ORG') else s\n",
    "    if t in ('B-LOC', 'I-LOC'):\n",
    "        loc += ' ' + s if (t == 'B-LOC') else s"
   ]
  },
  {
   "cell_type": "code",
   "execution_count": 25,
   "metadata": {},
   "outputs": [
    {
     "name": "stdout",
     "output_type": "stream",
     "text": [
      "['person: 周恩来 陈毅', 'location: 埃塞俄比亚 非洲 阿尔巴尼亚', 'organzation: 中华人民共和国国务院 外交部']\n"
     ]
    }
   ],
   "source": [
    "print(['person:' + per, 'location:' + loc, 'organzation:' + org])"
   ]
  },
  {
   "cell_type": "code",
   "execution_count": null,
   "metadata": {},
   "outputs": [],
   "source": []
  }
 ],
 "metadata": {
  "kernelspec": {
   "display_name": "Python [conda env:tensorflow]",
   "language": "python",
   "name": "conda-env-tensorflow-py"
  },
  "language_info": {
   "codemirror_mode": {
    "name": "ipython",
    "version": 3
   },
   "file_extension": ".py",
   "mimetype": "text/x-python",
   "name": "python",
   "nbconvert_exporter": "python",
   "pygments_lexer": "ipython3",
   "version": "3.6.8"
  }
 },
 "nbformat": 4,
 "nbformat_minor": 2
}
